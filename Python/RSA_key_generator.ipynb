{
 "cells": [
  {
   "cell_type": "code",
   "execution_count": null,
   "metadata": {},
   "outputs": [],
   "source": [
    "from Crypto.PublicKey import RSA\n",
    "\n",
    "key = RSA.generate(2048)\n",
    "\n",
    "# Decrypt용 private RSA key 생성\n",
    "private_key = key.export_key()\n",
    "file_out = open(\"private.pem\", \"wb\")\n",
    "file_out.write(private_key)\n",
    "file_out.close()\n",
    "\n",
    "# Encrypt용 public RSA key 생성\n",
    "public_key = key.publickey().export_key()\n",
    "file_out = open(\"public.pem\", \"wb\")\n",
    "file_out.write(public_key)\n",
    "file_out.close()"
   ]
  },
  {
   "cell_type": "markdown",
   "metadata": {},
   "source": [
    "### Encrypt"
   ]
  },
  {
   "cell_type": "code",
   "execution_count": null,
   "metadata": {},
   "outputs": [],
   "source": [
    "from Crypto.PublicKey import RSA\n",
    "from Crypto.Random import get_random_bytes\n",
    "from Crypto.Cipher import AES, PKCS1_OAEP\n",
    "\n",
    "data = \"비밀번호\".encode(\"utf-8\")\n",
    "file_out = open(\"key.bin\", \"wb\")\n",
    "\n",
    "recipient_key = RSA.import_key(open(\"public.pem\").read())\n",
    "session_key = get_random_bytes(16)\n",
    "\n",
    "# public RSA 키로 session key encrypt\n",
    "cipher_rsa = PKCS1_OAEP.new(recipient_key)\n",
    "enc_session_key = cipher_rsa.encrypt(session_key)\n",
    "\n",
    "# data를 AES session key를 사용해서 encrypt\n",
    "cipher_aes = AES.new(session_key, AES.MODE_GCM)\n",
    "ciphertext, tag = cipher_aes.encrypt_and_digest(data)\n",
    "[ file_out.write(x) for x in (enc_session_key, cipher_aes.nonce, tag, ciphertext) ]\n",
    "file_out.close()"
   ]
  },
  {
   "cell_type": "markdown",
   "metadata": {},
   "source": [
    "### Decrypt"
   ]
  },
  {
   "cell_type": "code",
   "execution_count": null,
   "metadata": {},
   "outputs": [],
   "source": [
    "from Crypto.PublicKey import RSA\n",
    "from Crypto.Cipher import AES, PKCS1_OAEP\n",
    "\n",
    "file_in = open(\"key.bin\", \"rb\")\n",
    "\n",
    "private_key = RSA.import_key(open(\"private.pem\").read())\n",
    "\n",
    "enc_session_key, nonce, tag, ciphertext = \\\n",
    "   [ file_in.read(x) for x in (private_key.size_in_bytes(), 16, 16, -1) ]\n",
    "\n",
    "# private RSA 키로 session key decrypt\n",
    "cipher_rsa = PKCS1_OAEP.new(private_key)\n",
    "session_key = cipher_rsa.decrypt(enc_session_key)\n",
    "\n",
    "# data를 AES session key를 사용해서 decrypt\n",
    "cipher_aes = AES.new(session_key, AES.MODE_GCM, nonce)\n",
    "data = cipher_aes.decrypt_and_verify(ciphertext, tag)\n",
    "print(data.decode(\"utf-8\"))"
   ]
  }
 ],
 "metadata": {
  "kernelspec": {
   "display_name": "Python 3",
   "language": "python",
   "name": "python3"
  },
  "language_info": {
   "codemirror_mode": {
    "name": "ipython",
    "version": 3
   },
   "file_extension": ".py",
   "mimetype": "text/x-python",
   "name": "python",
   "nbconvert_exporter": "python",
   "pygments_lexer": "ipython3",
   "version": "3.6.9"
  }
 },
 "nbformat": 4,
 "nbformat_minor": 4
}
