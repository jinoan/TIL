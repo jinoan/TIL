{
 "cells": [
  {
   "cell_type": "code",
   "execution_count": 1,
   "metadata": {},
   "outputs": [
    {
     "name": "stdout",
     "output_type": "stream",
     "text": [
      "\n",
      " \n",
      " Japan (Japanese: 日本; Nippon [ɲippoɴ] or Nihon [ɲihoɴ]; formally 日本国 Nippon-koku or Nihon-koku, lit. \"State of Japan\") is an island country in East Asia. Located in the Pacific Ocean, it lies off the eastern coast of the Asian continent and stretches from the Sea of Okhotsk in the north to the East China Sea and the Philippine Sea in the south.\n",
      " The kanji that make up Japan's name mean \"sun origin\", and it is often called the \"Land of the Rising Sun\". Japan is a stratovolcanic archipelago con\n",
      "\n",
      " \n",
      " Japan (Japanese: 日本; Nippon [ɲippoɴ] or Nihon [ɲihoɴ]; formally 日本国 Nippon-koku or Nihon-koku, lit. \"State of Japan\") is an island country in East Asia. Located in the Pacific Ocean, it lies off the eastern coast of the Asian continent and stretches from the Sea of Okhotsk in the north to the East China Sea and the Philippine Sea in the south.\n",
      " The kanji that make up Japan's name mean \"sun origin\", and it is often called the \"Land of the Rising Sun\". Japan is a stratovolcanic archipelago con\n"
     ]
    }
   ],
   "source": [
    "import pandas as pd\n",
    "\n",
    "# 크롤링한 텍스트파일 가져오기\n",
    "# pandas dataframe에 저장\n",
    "df = pd.read_csv('wiki_eng.csv')\n",
    "print(df['body'][0][0:500])\n",
    "\n",
    "# df 안의 데이터를 하나로 합쳐서 text 변수에 저장\n",
    "text = ''\n",
    "for b in df['body']:\n",
    "    text = text + b\n",
    "\n",
    "print(text[0:500])"
   ]
  },
  {
   "cell_type": "code",
   "execution_count": 3,
   "metadata": {},
   "outputs": [
    {
     "name": "stdout",
     "output_type": "stream",
     "text": [
      "Japan Japanese Nippon ippo Nihon Nippon Nihon State Japan country East Asia Pacific Ocean coast continent Sea Okhotsk north East China Sea Philippine Sea Japan s name sun origin Land Rising Sun Japan archipelago consisting Honshu Hokkaido Kyushu Shikoku ninety percent Japan area home country Hokkaido northernmost prefecture Okinawa southernmost population world s countryside Tokyo capital Japan Greater Tokyo Area area world Archaeological research Japan Upper Paleolithic period mention Japan his\n"
     ]
    }
   ],
   "source": [
    "import nltk\n",
    "import re\n",
    "\n",
    "# 알파벳을 제외한 모든 문자 제거\n",
    "text = re.sub(\"[^a-zA-Z]\", \" \", text)\n",
    "\n",
    "# text파일 중 명사 단어만 추출\n",
    "tagged = nltk.pos_tag(nltk.word_tokenize(text))\n",
    "text = ' '.join(\n",
    "     [word for word, pos in tagged if pos in ['NN','NNP']]\n",
    ")\n",
    "print(text[0:500])"
   ]
  },
  {
   "cell_type": "code",
   "execution_count": 4,
   "metadata": {},
   "outputs": [
    {
     "name": "stdout",
     "output_type": "stream",
     "text": [
      "{\"body\": \"Japan Japanese Nippon ippo Nihon Nippon Nihon State Japan country East Asia Pacific Ocean coast continent Sea Okhotsk north East China Sea Philippine Sea Japan s name sun origin Land Rising  ... ion problem King Sejong alphabet Hangul literacy Hangul Day occupation Language Society goal language time Japanization Today South Korea North Korea celebrate Hangul Day holiday Coordinates N E N E\"}\n"
     ]
    }
   ],
   "source": [
    "# json 파일로 저장\n",
    "import json\n",
    "from collections import OrderedDict\n",
    "od = OrderedDict()\n",
    "od['body'] = text\n",
    "j = json.dumps(od, ensure_ascii=False)\n",
    "print(j[:200] + ' ... ' + j[-200:])\n",
    "\n",
    "with open('wiki_eng_noun.json', 'w', encoding='utf-8') as make_file:\n",
    "    json.dump(od, make_file, ensure_ascii=False)"
   ]
  },
  {
   "cell_type": "code",
   "execution_count": 5,
   "metadata": {},
   "outputs": [],
   "source": [
    "# text 파일로 저장\n",
    "with open(\"wiki_eng_noun.txt\", \"w\") as f:\n",
    "    f.write(text)"
   ]
  }
 ],
 "metadata": {
  "kernelspec": {
   "display_name": "data_env",
   "language": "python",
   "name": "data_env"
  },
  "language_info": {
   "codemirror_mode": {
    "name": "ipython",
    "version": 3
   },
   "file_extension": ".py",
   "mimetype": "text/x-python",
   "name": "python",
   "nbconvert_exporter": "python",
   "pygments_lexer": "ipython3",
   "version": "3.6.8"
  }
 },
 "nbformat": 4,
 "nbformat_minor": 2
}
