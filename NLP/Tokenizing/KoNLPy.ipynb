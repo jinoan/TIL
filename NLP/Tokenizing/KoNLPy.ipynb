{
 "cells": [
  {
   "cell_type": "code",
   "execution_count": 1,
   "metadata": {},
   "outputs": [
    {
     "name": "stdout",
     "output_type": "stream",
     "text": [
      "\n",
      " 일본국(일본어: 日本国 니혼코쿠[*][4], にっぽんこく 닛폰코쿠[*]), 약칭 일본(日本, 일본어: 日本 니혼[*], にっぽん 닛폰[*])은 동아시아에 있는 국가다. 국토는 태평양에 있는 일본 열도의 네 개의 섬으로 이루어진 홋카이도, 혼슈, 시코쿠, 규슈를 중심으로 주변에 산재한 작은 섬으로 구성되어 있다. 총 면적은 37만 7835 km2인데 이는 노르웨이(스발바르 제도와 얀마옌을 포함한 경우)보다 작으며 독일보다 크다. 면적 순으로는 세계 61위다.[5]\n",
      " 6,852개의 섬으로 이루어진 군도 국가이며[6] 이 중 혼슈, 홋카이도, 규슈, 시코쿠 등 네 곳의 섬이 일본 전체 면적의 97%를 차지하고 있을 뿐만 아니라 많은 섬들이 화산 활동을 통해 생겨났다. 일본의 인구는 약 1억 2,700만 명으로, 세계에서 11번째로 많다. 사실상의 수도인 도쿄도 및 주변 지역을 포함하는 도쿄 수도권은 세계에서 가장 큰 메트로폴리스이며, 이 지역에만 약 4,000만여 명 이상의 인구가 거\n",
      "\n",
      " 일본국(일본어: 日本国 니혼코쿠[*][4], にっぽんこく 닛폰코쿠[*]), 약칭 일본(日本, 일본어: 日本 니혼[*], にっぽん 닛폰[*])은 동아시아에 있는 국가다. 국토는 태평양에 있는 일본 열도의 네 개의 섬으로 이루어진 홋카이도, 혼슈, 시코쿠, 규슈를 중심으로 주변에 산재한 작은 섬으로 구성되어 있다. 총 면적은 37만 7835 km2인데 이는 노르웨이(스발바르 제도와 얀마옌을 포함한 경우)보다 작으며 독일보다 크다. 면적 순으로는 세계 61위다.[5]\n",
      " 6,852개의 섬으로 이루어진 군도 국가이며[6] 이 중 혼슈, 홋카이도, 규슈, 시코쿠 등 네 곳의 섬이 일본 전체 면적의 97%를 차지하고 있을 뿐만 아니라 많은 섬들이 화산 활동을 통해 생겨났다. 일본의 인구는 약 1억 2,700만 명으로, 세계에서 11번째로 많다. 사실상의 수도인 도쿄도 및 주변 지역을 포함하는 도쿄 수도권은 세계에서 가장 큰 메트로폴리스이며, 이 지역에만 약 4,000만여 명 이상의 인구가 거\n"
     ]
    }
   ],
   "source": [
    "import pandas as pd\n",
    "\n",
    "# 크롤링한 텍스트파일 가져오기\n",
    "# pandas dataframe에 저장\n",
    "df = pd.read_csv('wiki_kor.csv')\n",
    "print(df['body'][0][0:500])\n",
    "\n",
    "# df 안의 데이터를 하나로 합쳐서 text 변수에 저장\n",
    "text = ''\n",
    "for b in df['body']:\n",
    "    text = text + b\n",
    "\n",
    "print(text[0:500])"
   ]
  },
  {
   "cell_type": "code",
   "execution_count": 2,
   "metadata": {},
   "outputs": [
    {
     "name": "stdout",
     "output_type": "stream",
     "text": [
      "일본국 일본어 니혼코쿠 닛폰코쿠 약칭 일본 일본어 혼 닛폰 은 동아시아 국가 국토 태평양 일본 열도 네 개 섬 홋카이도 혼슈 시코쿠 규슈 중심 주변 산재 섬 구성 총 면적 노르웨이 스발바르 제도 얀마옌 포함 경우 독일 면적 순 세계 위 개 섬 군도 국가 이 중 혼슈 홋카이도 규슈 시코쿠 등 네 곳 섬 일본 전체 면적 를 차지 뿐 섬 화산 활동 통해 일본 인구 약 명 세계 번 사실 상의 수도 도쿄도 및 주변 지역 포함 도쿄 수도권 세계 가장 메트로폴리스 이 지역 약 명 이상 인구 거주 현재 일본 포츠담 선언 서명 이후 제정 시행 일본국 헌법 법적 성립 국가 일본국 헌법 제정 일본 입헌군주제 채택 상징 국가원수 역할 천황 국민 선거 통해 선출 참의원 상원 중의원 하원 구성 국회 공존 현재 천황 아키히토 국회 집권 자유민주당 총리대신 아베 신조 경제력 명목 기준 세계 세 구매력 평가 기준 네 번 기준 또한 세계 네 번 수출 다섯 번 수입 나라 소비에트 연방 붕괴 이후 중화인민공화국 자리 \n"
     ]
    }
   ],
   "source": [
    "from konlpy.tag import Okt\n",
    "\n",
    "# text파일 중 명사 단어만 추출\n",
    "okt = Okt()\n",
    "text = ' '.join(okt.nouns(text))\n",
    "print(text[0:500])"
   ]
  },
  {
   "cell_type": "code",
   "execution_count": 5,
   "metadata": {},
   "outputs": [
    {
     "name": "stdout",
     "output_type": "stream",
     "text": [
      "{\"body\": \"일본국 일본어 니혼코쿠 닛폰코쿠 약칭 일본 일본어 혼 닛폰 은 동아시아 국가 국토 태평양 일본 열도 네 개 섬 홋카이도 혼슈 시코쿠 규슈 중심 주변 산재 섬 구성 총 면적 노르웨이 스발바르 제도 얀마옌 포함 경우 독일 면적 순 세계 위 개 섬 군도 국가 이 중 혼슈 홋카이도 규슈 시코쿠 등 네 곳 섬 일본 전체 면적 를 차지 뿐 섬 화산  ... 주주의 인민공화국 현재 직할시 특급시 지구 도로 편제 또한 단계 행정 체계 도 시 군 리 구분 광복 직후 다른 것 통합 군 승격 읍 군 중심 지역 명칭 변경 이 외 로동자구 직할시 소속 구역 등 이 중 도 급 행정구역 직할시 특급시 도 소속 지구 행정 상의 특혜 그 목록 다음 다만 대한민국 이 행정구역 구분 인정 광복 당시 행정구역 인정 이북 도 위원회\"}\n"
     ]
    }
   ],
   "source": [
    "# json 파일로 저장\n",
    "import json\n",
    "from collections import OrderedDict\n",
    "od = OrderedDict()\n",
    "od['body'] = text\n",
    "j = json.dumps(od, ensure_ascii=False)\n",
    "print(j[:200] + ' ... ' + j[-200:])\n",
    "\n",
    "with open('wiki_kor_noun.json', 'w', encoding='utf-8') as make_file:\n",
    "    json.dump(od, make_file, ensure_ascii=False)"
   ]
  },
  {
   "cell_type": "code",
   "execution_count": 4,
   "metadata": {},
   "outputs": [],
   "source": [
    "# text 파일로 저장\n",
    "with open(\"wiki_kor_noun.txt\", \"w\") as f:\n",
    "    f.write(text)"
   ]
  },
  {
   "cell_type": "code",
   "execution_count": null,
   "metadata": {},
   "outputs": [],
   "source": []
  }
 ],
 "metadata": {
  "kernelspec": {
   "display_name": "data_env",
   "language": "python",
   "name": "data_env"
  },
  "language_info": {
   "codemirror_mode": {
    "name": "ipython",
    "version": 3
   },
   "file_extension": ".py",
   "mimetype": "text/x-python",
   "name": "python",
   "nbconvert_exporter": "python",
   "pygments_lexer": "ipython3",
   "version": "3.6.8"
  }
 },
 "nbformat": 4,
 "nbformat_minor": 2
}
